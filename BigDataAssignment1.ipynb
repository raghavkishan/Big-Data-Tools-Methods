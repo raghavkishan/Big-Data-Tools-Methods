{
 "cells": [
  {
   "cell_type": "markdown",
   "metadata": {},
   "source": [
    "1) If we list all the natural numbers below 20 that are multiples of 3 or 5 but not multiples both of 3 and 5, we get 3, 5, 6, 9, 10, 12, 18. The sum of these multiples is 63. Write a function,sum_multiples_3_5, that returns the sum of the multiples of 3 and 5 less than N."
   ]
  },
  {
   "cell_type": "code",
   "execution_count": 1,
   "metadata": {},
   "outputs": [
    {
     "name": "stdout",
     "output_type": "stream",
     "text": [
      "63\n",
      "1134082947\n",
      "180\n"
     ]
    },
    {
     "data": {
      "text/plain": [
       "defined \u001b[32mfunction\u001b[39m \u001b[36msumMultiplesThreeAndFive\u001b[39m\n",
       "defined \u001b[32mfunction\u001b[39m \u001b[36msumMultiplesThreeOrFive\u001b[39m\n",
       "defined \u001b[32mfunction\u001b[39m \u001b[36msum_multiples_3_5\u001b[39m\n",
       "\u001b[36mN\u001b[39m: \u001b[32mInt\u001b[39m = \u001b[32m20\u001b[39m\n",
       "\u001b[36mA\u001b[39m: \u001b[32mInt\u001b[39m = \u001b[32m2000000\u001b[39m\n",
       "\u001b[36mB\u001b[39m: \u001b[32mInt\u001b[39m = \u001b[32m30\u001b[39m"
      ]
     },
     "execution_count": 1,
     "metadata": {},
     "output_type": "execute_result"
    }
   ],
   "source": [
    "def sumMultiplesThreeAndFive(N:Int): BigInt = {\n",
    "    var r = (1 to N-1).toArray\n",
    "    return r.filter(l => l % 3 == 0 && l % 5 == 0).sum\n",
    "}\n",
    "\n",
    "def sumMultiplesThreeOrFive(N:Int): BigInt = {\n",
    "    var r = (1 to N-1).toArray\n",
    "    return r.filter(l => l % 3 == 0 || l % 5 == 0).sum\n",
    "}\n",
    "\n",
    "def sum_multiples_3_5(Z:Int): BigInt = {\n",
    "    return sumMultiplesThreeOrFive(Z) - sumMultiplesThreeAndFive(Z)\n",
    "}\n",
    "\n",
    "var N = 20\n",
    "println (sum_multiples_3_5(N))\n",
    "\n",
    "var A = 2000000\n",
    "println (sum_multiples_3_5(A))\n",
    "\n",
    "var B = 30\n",
    "println (sum_multiples_3_5(B))"
   ]
  },
  {
   "cell_type": "code",
   "execution_count": null,
   "metadata": {
    "collapsed": true
   },
   "outputs": [],
   "source": [
    "-1 how know theses are correct?"
   ]
  },
  {
   "cell_type": "markdown",
   "metadata": {},
   "source": [
    "2) Write a function, patternCount with two arguments. The first arguments is a string, lets call it text, and the second argument is also a string, call it pattern. The function patternCount returns the number of times the pattern occurs in the text. For example \n",
    "\n",
    "pattern_count(“abababa”, “aba”) == 3\n",
    "pattern_count(“aaaaa”, “aa”) == 4\n",
    "pattern_count(“Abcde”, “abc”) == 0"
   ]
  },
  {
   "cell_type": "code",
   "execution_count": 2,
   "metadata": {},
   "outputs": [
    {
     "name": "stdout",
     "output_type": "stream",
     "text": [
      "3\n",
      "4\n",
      "0\n",
      "1\n"
     ]
    },
    {
     "data": {
      "text/plain": [
       "defined \u001b[32mfunction\u001b[39m \u001b[36mpatternCount\u001b[39m"
      ]
     },
     "execution_count": 2,
     "metadata": {},
     "output_type": "execute_result"
    }
   ],
   "source": [
    "def patternCount(text:String, pattern:String): Long = {\n",
    "    \n",
    "    text.sliding(pattern.length).count(_ == pattern)\n",
    "}\n",
    "\n",
    "println (patternCount(\"abababa\",\"aba\"))\n",
    "println (patternCount(\"aaaaa\",\"aa\"))\n",
    "println (patternCount(\"Abcde\",\"abc\"))\n",
    "println (patternCount(\"Raghav is a graduate student at SDSU\",\"av\"))"
   ]
  },
  {
   "cell_type": "markdown",
   "metadata": {},
   "source": [
    "3) Write a function product(s : String) that returns the product of the Unicode codes of all letters in string s without using a loop."
   ]
  },
  {
   "cell_type": "code",
   "execution_count": 5,
   "metadata": {},
   "outputs": [
    {
     "name": "stdout",
     "output_type": "stream",
     "text": [
      "39818420\n",
      "162320796575110448299770568058252150526144046694400000000\n"
     ]
    },
    {
     "data": {
      "text/plain": [
       "defined \u001b[32mfunction\u001b[39m \u001b[36mproduct\u001b[39m\n",
       "\u001b[36mres4_3\u001b[39m: \u001b[32mBoolean\u001b[39m = \u001b[32mtrue\u001b[39m"
      ]
     },
     "execution_count": 5,
     "metadata": {},
     "output_type": "execute_result"
    }
   ],
   "source": [
    "def product(s:String): BigInt = {\n",
    "    return s.map(i => BigInt(i)).product\n",
    "}\n",
    "\n",
    "println(product(\"SDSU\"))\n",
    "println(product(\"raghav is a graduate student \"))"
   ]
  },
  {
   "cell_type": "code",
   "execution_count": null,
   "metadata": {
    "collapsed": true
   },
   "outputs": [],
   "source": [
    "-1 how know theses are correct?"
   ]
  },
  {
   "cell_type": "markdown",
   "metadata": {},
   "source": [
    "4) Write a function noDuplicates(ints : Array[Int]) that returns an array all values from the array ints with duplicates removed."
   ]
  },
  {
   "cell_type": "code",
   "execution_count": 4,
   "metadata": {},
   "outputs": [
    {
     "name": "stdout",
     "output_type": "stream",
     "text": [
      " 1 0 2 3 5 4 73 83"
     ]
    },
    {
     "data": {
      "text/plain": [
       "defined \u001b[32mfunction\u001b[39m \u001b[36mnoDuplicates\u001b[39m\n",
       "\u001b[36mintegers\u001b[39m: \u001b[32mArray\u001b[39m[\u001b[32mInt\u001b[39m] = \u001b[33mArray\u001b[39m(\u001b[32m1\u001b[39m, \u001b[32m1\u001b[39m, \u001b[32m0\u001b[39m, \u001b[32m0\u001b[39m, \u001b[32m2\u001b[39m, \u001b[32m3\u001b[39m, \u001b[32m5\u001b[39m, \u001b[32m3\u001b[39m, \u001b[32m4\u001b[39m, \u001b[32m5\u001b[39m, \u001b[32m73\u001b[39m, \u001b[32m83\u001b[39m, \u001b[32m83\u001b[39m, \u001b[32m73\u001b[39m)\n",
       "\u001b[36mnoneDuplicates\u001b[39m: \u001b[32mArray\u001b[39m[\u001b[32mInt\u001b[39m] = \u001b[33mArray\u001b[39m(\u001b[32m1\u001b[39m, \u001b[32m0\u001b[39m, \u001b[32m2\u001b[39m, \u001b[32m3\u001b[39m, \u001b[32m5\u001b[39m, \u001b[32m4\u001b[39m, \u001b[32m73\u001b[39m, \u001b[32m83\u001b[39m)"
      ]
     },
     "execution_count": 4,
     "metadata": {},
     "output_type": "execute_result"
    }
   ],
   "source": [
    "def noDuplicates(ints:Array[Int]): Array[Int] = {\n",
    "    return ints.distinct\n",
    "}\n",
    "\n",
    "var integers:Array[Int] = Array(1,1,0,0,2,3,5,3,4,5,73,83,83,73)\n",
    "var noneDuplicates = noDuplicates(integers)\n",
    "for (i <- 0 to (noneDuplicates.length-1)){\n",
    "    print (\" \"+noneDuplicates(i))\n",
    "}"
   ]
  },
  {
   "cell_type": "markdown",
   "metadata": {
    "collapsed": true
   },
   "source": [
    "5) Create an array that contains the value 0.00001f repeated 1000000 times. Sum up all the elements of the array. What is the result? How big is the error?\n"
   ]
  },
  {
   "cell_type": "code",
   "execution_count": 5,
   "metadata": {},
   "outputs": [
    {
     "name": "stdout",
     "output_type": "stream",
     "text": [
      "Result: 9.917345\n",
      "Error:0.008265495"
     ]
    },
    {
     "data": {
      "text/plain": [
       "\u001b[36mrepetitions\u001b[39m: \u001b[32mArray\u001b[39m[\u001b[32mFloat\u001b[39m] = \u001b[33mArray\u001b[39m(\n",
       "  \u001b[32m1.0E-5F\u001b[39m,\n",
       "  \u001b[32m1.0E-5F\u001b[39m,\n",
       "  \u001b[32m1.0E-5F\u001b[39m,\n",
       "  \u001b[32m1.0E-5F\u001b[39m,\n",
       "  \u001b[32m1.0E-5F\u001b[39m,\n",
       "  \u001b[32m1.0E-5F\u001b[39m,\n",
       "  \u001b[32m1.0E-5F\u001b[39m,\n",
       "  \u001b[32m1.0E-5F\u001b[39m,\n",
       "  \u001b[32m1.0E-5F\u001b[39m,\n",
       "  \u001b[32m1.0E-5F\u001b[39m,\n",
       "  \u001b[32m1.0E-5F\u001b[39m,\n",
       "\u001b[33m...\u001b[39m\n",
       "\u001b[36mactual\u001b[39m: \u001b[32mFloat\u001b[39m = \u001b[32m9.917345F\u001b[39m\n",
       "\u001b[36mexpected\u001b[39m: \u001b[32mInt\u001b[39m = \u001b[32m10\u001b[39m\n",
       "\u001b[36merror\u001b[39m: \u001b[32mFloat\u001b[39m = \u001b[32m0.008265495F\u001b[39m"
      ]
     },
     "execution_count": 5,
     "metadata": {},
     "output_type": "execute_result"
    }
   ],
   "source": [
    "var repetitions = Array.fill(1000000)(0.00001f)\n",
    "println(\"Result: \" + repetitions.sum)\n",
    "\n",
    "var actual = repetitions.sum\n",
    "var expected = 10\n",
    "\n",
    "var error = scala.math.abs(actual - expected)/ expected\n",
    "print (\"Error:\" + error)"
   ]
  },
  {
   "cell_type": "markdown",
   "metadata": {},
   "source": [
    "Reson: Floating point numbers only have 32 bits of precision, so the digits are cut off at some point, and the resulting number is rounded off, thus leading to an error."
   ]
  },
  {
   "cell_type": "markdown",
   "metadata": {},
   "source": [
    "6) Using Scala compute the sums 0.0001f + 8000.0f and 0.000000001 + 90000000. What is the result? How big is the error?"
   ]
  },
  {
   "cell_type": "code",
   "execution_count": 6,
   "metadata": {},
   "outputs": [
    {
     "name": "stdout",
     "output_type": "stream",
     "text": [
      "Actaul:8000.0\n",
      "Expected: 8000.0001\n",
      "Error:1.2499999869033954E-8\n",
      "\n",
      "Actaul:9.0E7\n",
      "Expected: 9.0E7\n",
      "Error:0.0\n"
     ]
    },
    {
     "data": {
      "text/plain": [
       "\u001b[36msumf\u001b[39m: \u001b[32mFloat\u001b[39m = \u001b[32m8000.0F\u001b[39m\n",
       "\u001b[36mactual\u001b[39m: \u001b[32mFloat\u001b[39m = \u001b[32m8000.0F\u001b[39m\n",
       "\u001b[36mexpected\u001b[39m: \u001b[32mDouble\u001b[39m = \u001b[32m8000.0001\u001b[39m\n",
       "\u001b[36merror\u001b[39m: \u001b[32mDouble\u001b[39m = \u001b[32m1.2499999869033954E-8\u001b[39m\n",
       "\u001b[36msumD\u001b[39m: \u001b[32mDouble\u001b[39m = \u001b[32m9.0E7\u001b[39m\n",
       "\u001b[36mactualD\u001b[39m: \u001b[32mDouble\u001b[39m = \u001b[32m9.0E7\u001b[39m\n",
       "\u001b[36mexpectedD\u001b[39m: \u001b[32mDouble\u001b[39m = \u001b[32m9.0E7\u001b[39m\n",
       "\u001b[36merrorD\u001b[39m: \u001b[32mDouble\u001b[39m = \u001b[32m0.0\u001b[39m"
      ]
     },
     "execution_count": 6,
     "metadata": {},
     "output_type": "execute_result"
    }
   ],
   "source": [
    "var sumf = 0.0001f+8000.0f\n",
    "var actual = sumf\n",
    "var expected = 8000.0001\n",
    "var error = scala.math.abs(actual - expected)/ expected\n",
    "println (\"Actaul:\" + actual)\n",
    "println (\"Expected: \"+ expected)\n",
    "println (\"Error:\" + error)\n",
    "println\n",
    "\n",
    "var sumD = 0.000000001 + 90000000\n",
    "var actualD = sumD\n",
    "var expectedD = 90000000.000000001\n",
    "var errorD = scala.math.abs(actualD - expectedD)/ (actualD)\n",
    "println (\"Actaul:\" + actualD)\n",
    "println (\"Expected: \"+ expectedD)\n",
    "println (\"Error:\" + errorD)\n"
   ]
  },
  {
   "cell_type": "markdown",
   "metadata": {},
   "source": [
    "Reson: Floating point numbers only have 32 bits of precision, so the digits are cut off at some point, and the resulting number is rounded off, thus leading to an error while double has 64 bits of precision and can handle very large values. Hence the error in this case is 0.0"
   ]
  },
  {
   "cell_type": "markdown",
   "metadata": {},
   "source": [
    "7) Write a function randomInts(n:Int, range:Int) that returns an array of n integers all between 0 and range."
   ]
  },
  {
   "cell_type": "code",
   "execution_count": 1,
   "metadata": {
    "scrolled": false
   },
   "outputs": [
    {
     "name": "stdout",
     "output_type": "stream",
     "text": [
      "569101\n",
      "5763980\n",
      "3373370\n",
      "6465338\n",
      "9916765\n",
      "142531\n",
      "7220138\n",
      "7062096\n",
      "5342577\n",
      "4537945\n",
      "[I@4b4317d1\n"
     ]
    },
    {
     "data": {
      "text/plain": [
       "defined \u001b[32mfunction\u001b[39m \u001b[36mrandomInts\u001b[39m\n",
       "\u001b[36mresult\u001b[39m: \u001b[32mArray\u001b[39m[\u001b[32mInt\u001b[39m] = \u001b[33mArray\u001b[39m(\n",
       "  \u001b[32m569101\u001b[39m,\n",
       "  \u001b[32m5763980\u001b[39m,\n",
       "  \u001b[32m3373370\u001b[39m,\n",
       "  \u001b[32m6465338\u001b[39m,\n",
       "  \u001b[32m9916765\u001b[39m,\n",
       "  \u001b[32m142531\u001b[39m,\n",
       "  \u001b[32m7220138\u001b[39m,\n",
       "  \u001b[32m7062096\u001b[39m,\n",
       "  \u001b[32m5342577\u001b[39m,\n",
       "  \u001b[32m4537945\u001b[39m\n",
       ")"
      ]
     },
     "execution_count": 1,
     "metadata": {},
     "output_type": "execute_result"
    }
   ],
   "source": [
    "def randomInts(n:Int, range:Int): Array[Int] = {\n",
    "    val r = scala.util.Random\n",
    "    return Array.fill(n)(r.nextInt(range))\n",
    "\n",
    "    \n",
    "}\n",
    "\n",
    "val result = randomInts(10,10000000)\n",
    "for ( i <- 0 to (result.length-1)){\n",
    "    print(result(i)+\"\\n\")\n",
    "}\n",
    "println (result)"
   ]
  },
  {
   "cell_type": "markdown",
   "metadata": {},
   "source": [
    "8) Create three files with random integers in the range 0 to Int.MaxValue/2. The first file contains 1,000 integers, the second 100,000 integers, the third 10,000,000 integers. Write scala code to find the average and median value for each file. What are the average and median value for each file? How long does it take compute those values for each file? "
   ]
  },
  {
   "cell_type": "code",
   "execution_count": null,
   "metadata": {},
   "outputs": [
    {
     "name": "stdout",
     "output_type": "stream",
     "text": [
      "Thousand Numbers: \n",
      "median:2557\n",
      "Average:2521.547\n",
      "Time Taken:18\n",
      "\n",
      "Hundered Thousand Numbers: \n",
      "median:248898\n",
      "Average:249555.15209\n",
      "Time Taken:284\n",
      "\n",
      "Ten Million Numbers: \n",
      "median:2499270\n"
     ]
    }
   ],
   "source": [
    "import java.io._\n",
    "import scala.io.Source\n",
    "import scala.collection.mutable.ArrayBuffer\n",
    "\n",
    "def randomInt(n:Int, range:Int): Array[Int] = {\n",
    "    val r = scala.util.Random\n",
    "    var sortedArray = Array.fill(n)(r.nextInt(range))\n",
    "    return sortedArray\n",
    "}\n",
    "\n",
    "def fileWriter(n:Int, maxValue:Int, fileName:String): Unit = {\n",
    "    val writer = new PrintWriter(new File(fileName+\".txt\"))\n",
    "    val randomNumbers = randomInt(n,maxValue/2)\n",
    "    for (i <- 0 to (randomNumbers.length-1)){\n",
    "        writer.write(randomNumbers(i).toString()+ System.getProperty(\"line.separator\"))\n",
    "    }\n",
    "    writer.close\n",
    "}\n",
    "\n",
    "def medianCalculator(array: Array[Int]): Int = {\n",
    "    var arrayUsed = array.sorted\n",
    "    if (arrayUsed.size % 2 == 1) return arrayUsed(arrayUsed.length/2)\n",
    "    else{\n",
    "        var (f,l) = arrayUsed.splitAt(arrayUsed.length/2)\n",
    "        return (f.last+l.head)/2\n",
    "    }\n",
    "}\n",
    "\n",
    "def convertToBigDecimal(array: Array[Int]): Array[BigDecimal] = {\n",
    "    var result = ArrayBuffer[BigDecimal]()\n",
    "    for ( i <- 0 to (array.length-1)){\n",
    "        result+=BigDecimal(array(i))\n",
    "    }\n",
    "    return result.toArray\n",
    "}\n",
    "\n",
    "def averageCalculator(array: Array[Int]): BigDecimal = {\n",
    "    var source = convertToBigDecimal(array)\n",
    "    var sum: BigDecimal = 0\n",
    "    for(i <- 0 to (array.length-1)){\n",
    "        sum = sum + array(i)\n",
    "    }\n",
    "    return (sum/BigDecimal(array.length))\n",
    "}\n",
    "\n",
    "def averageMedian(file:String) = {\n",
    "    \n",
    "    val beginTime = System.currentTimeMillis()\n",
    "    var arrayBuffer = ArrayBuffer[Int]()\n",
    "    val numbersSource =  Source.fromFile(file)\n",
    "    for (line <- numbersSource.getLines()){\n",
    "        arrayBuffer+=line.toInt\n",
    "    }\n",
    "    var array = arrayBuffer.toArray\n",
    "    print (\"median:\"+medianCalculator(array)+\"\\n\")\n",
    "    print (\"Average:\"+averageCalculator(array)+\"\\n\")\n",
    "    val endTime = System.currentTimeMillis()\n",
    "    print (\"Time Taken:\"+(endTime-beginTime) + \"\\n\")\n",
    "    arrayBuffer.clear\n",
    "    numbersSource.close()\n",
    "}\n",
    "\n",
    "\n",
    "fileWriter(1000,10000,\"thousandnumbers\")\n",
    "fileWriter(100000,1000000,\"hunderedthousand\")\n",
    "fileWriter(10000000,10000000,\"tenmillion\")\n",
    "\n",
    "println(\"Thousand Numbers: \")\n",
    "averageMedian(\"thousandnumbers.txt\")\n",
    "println\n",
    "println(\"Hundered Thousand Numbers: \")\n",
    "averageMedian(\"hunderedthousand.txt\")\n",
    "println\n",
    "println(\"Ten Million Numbers: \")\n",
    "averageMedian(\"tenmillion.txt\")"
   ]
  },
  {
   "cell_type": "markdown",
   "metadata": {},
   "source": [
    "9) Write a function minmax(values: Array[Int]) that returns a pair containing the smallest and the largest values in the array\n"
   ]
  },
  {
   "cell_type": "code",
   "execution_count": 9,
   "metadata": {},
   "outputs": [
    {
     "name": "stdout",
     "output_type": "stream",
     "text": [
      "Minimum, Maximum: (303588,852128)\n"
     ]
    },
    {
     "data": {
      "text/plain": [
       "defined \u001b[32mfunction\u001b[39m \u001b[36mminMax\u001b[39m\n",
       "defined \u001b[32mfunction\u001b[39m \u001b[36mrandomInt\u001b[39m\n",
       "\u001b[36mrandomNumbers\u001b[39m: \u001b[32mArray\u001b[39m[\u001b[32mInt\u001b[39m] = \u001b[33mArray\u001b[39m(\n",
       "  \u001b[32m852128\u001b[39m,\n",
       "  \u001b[32m831272\u001b[39m,\n",
       "  \u001b[32m702142\u001b[39m,\n",
       "  \u001b[32m553979\u001b[39m,\n",
       "  \u001b[32m303588\u001b[39m,\n",
       "  \u001b[32m563422\u001b[39m,\n",
       "  \u001b[32m616534\u001b[39m,\n",
       "  \u001b[32m379217\u001b[39m,\n",
       "  \u001b[32m806668\u001b[39m,\n",
       "  \u001b[32m336412\u001b[39m\n",
       ")"
      ]
     },
     "execution_count": 9,
     "metadata": {},
     "output_type": "execute_result"
    }
   ],
   "source": [
    "def minMax(values: Array[Int]): (Int, Int) = {\n",
    "    return (values.min,values.max)\n",
    "}\n",
    "\n",
    "def randomInt(n:Int, range:Int): Array[Int] = {\n",
    "    val r = scala.util.Random\n",
    "    var sortedArray = Array.fill(n)(r.nextInt(range))\n",
    "    return sortedArray\n",
    "}\n",
    "var randomNumbers = randomInt(10,1000000)\n",
    "println (\"Minimum, Maximum: \"+ minMax(randomNumbers))"
   ]
  },
  {
   "cell_type": "markdown",
   "metadata": {
    "collapsed": true
   },
   "source": [
    "10) Make a class Car with read-only properties for manufacturer, model name, and model year, and a read-write property for the license plate. Supply four constructors. All require the manufacturer and model name. Optionally, model year and license plate can also be speci-fied in the constructor. If not, the model year is set to -1 and the license plate to the empty string. Which constructor are you choosing as the primary constructor? Why?"
   ]
  },
  {
   "cell_type": "code",
   "execution_count": 10,
   "metadata": {},
   "outputs": [
    {
     "name": "stdout",
     "output_type": "stream",
     "text": [
      "Manufacturer: Infinity ,Model Name: Q70L ,Model Year: 2017 ,Liscence Plate: RAGHAV\n",
      "Manufacturer: Lexus ,Model Name: RX ,Model Year: 2017 ,Liscence Plate: \n",
      "Manufacturer: Cadilac ,Model Name: 300 ,Model Year: -1 ,Liscence Plate: KISHAN\n",
      "Manufacturer: Audi ,Model Name: A7 ,Model Year: -1 ,Liscence Plate: \n"
     ]
    },
    {
     "data": {
      "text/plain": [
       "defined \u001b[32mclass\u001b[39m \u001b[36mCar\u001b[39m\n",
       "\u001b[36mcar1\u001b[39m: \u001b[32mCar\u001b[39m = $sess.cmd9Wrapper$Helper$Car@5ad17b47\n",
       "\u001b[36mcar2\u001b[39m: \u001b[32mCar\u001b[39m = $sess.cmd9Wrapper$Helper$Car@3f710f8c\n",
       "\u001b[36mcar3\u001b[39m: \u001b[32mCar\u001b[39m = $sess.cmd9Wrapper$Helper$Car@4232fbf8\n",
       "\u001b[36mcar4\u001b[39m: \u001b[32mCar\u001b[39m = $sess.cmd9Wrapper$Helper$Car@3220fb80"
      ]
     },
     "execution_count": 10,
     "metadata": {},
     "output_type": "execute_result"
    }
   ],
   "source": [
    "class Car(val manufacturer: String, val modelName: String, val modelYear: Int, var licensePlate: String)\n",
    "{\n",
    "    def this(manufacturer: String, modelName: String, modelYear: Int){\n",
    "        this(manufacturer,modelName,modelYear,\"\")\n",
    "    }\n",
    "    \n",
    "    \n",
    "    def this(manufacturer: String, modelName: String, licensePlate: String){\n",
    "        this(manufacturer,modelName,-1,licensePlate)\n",
    "    }\n",
    "    \n",
    "    \n",
    "    def this(manufacturer: String, modelName: String){\n",
    "        this(manufacturer,modelName,-1)\n",
    "    }\n",
    "    \n",
    "}\n",
    "\n",
    "    var car1 = new Car(\"Infinity\", \"Q70L\", 2017, \"RAGHAV\")\n",
    "    var car2 = new Car(\"Lexus\",\"RX\",2017)\n",
    "    var car3 = new Car(\"Cadilac\",\"300\",\"KISHAN\")\n",
    "    var car4 = new Car(\"Audi\",\"A7\")\n",
    "\n",
    "    println(\"Manufacturer: \" + car1.manufacturer + \" ,Model Name: \" + car1.modelName + \" ,Model Year: \" + car1.modelYear + \" ,Liscence Plate: \" + car1.licensePlate)\n",
    "    println(\"Manufacturer: \" + car2.manufacturer + \" ,Model Name: \" + car2.modelName + \" ,Model Year: \" + car2.modelYear + \" ,Liscence Plate: \" + car2.licensePlate)\n",
    "    println(\"Manufacturer: \" + car3.manufacturer + \" ,Model Name: \" + car3.modelName + \" ,Model Year: \" + car3.modelYear + \" ,Liscence Plate: \" + car3.licensePlate)\n",
    "    println(\"Manufacturer: \" + car4.manufacturer + \" ,Model Name: \" + car4.modelName + \" ,Model Year: \" + car4.modelYear + \" ,Liscence Plate: \" + car4.licensePlate)\n"
   ]
  },
  {
   "cell_type": "markdown",
   "metadata": {},
   "source": [
    "Description 10) \n",
    "\n",
    "1) The primary constructor is the default constructor which is called by the other auxiliary constructors and when all the values are provided by the user.\n",
    "2) In Scala the class deifinition is interwoven with the primary construtor.\n",
    "3) The parameters of the primary constructor are placed immediately after the class name.\n",
    "4) I have define 5 Auxilary Constructors with different number of parameters.\n",
    "5) The constructor with two parameters calls the First Auxillary constructor which intern calls the primary constructor.\n",
    "6) Variables that are declared as \"val\" are immutable thus making manufacturer,model name and model year read-only, while license plate is \"var\" thus making it read-write."
   ]
  },
  {
   "cell_type": "code",
   "execution_count": null,
   "metadata": {
    "collapsed": true
   },
   "outputs": [],
   "source": [
    "98/100"
   ]
  }
 ],
 "metadata": {
  "kernelspec": {
   "display_name": "Scala",
   "language": "scala",
   "name": "scala"
  },
  "language_info": {
   "codemirror_mode": "text/x-scala",
   "file_extension": ".scala",
   "mimetype": "text/x-scala",
   "name": "scala211",
   "nbconvert_exporter": "script",
   "pygments_lexer": "scala",
   "version": "2.11.11"
  }
 },
 "nbformat": 4,
 "nbformat_minor": 2
}
