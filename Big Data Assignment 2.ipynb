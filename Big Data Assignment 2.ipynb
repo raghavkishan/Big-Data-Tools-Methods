{
 "cells": [
  {
   "cell_type": "markdown",
   "metadata": {},
   "source": [
    "In problems 1 - 4 you are to use higher order functions (map, reduce, filter, …) to solve the problems. You do not need to use for or while statements. The solutions with map, reduce and/or filter may not be as efficient as solutions using a for or while. However the core operations in Hadoop are map and reduce. While there is a difference in the Hadoop mapReduce from what you will use hear it is important to get used to using those constructs.\n",
    "\n",
    "In each of the solutions to the problems you are to include tests that show that your code works. "
   ]
  },
  {
   "cell_type": "markdown",
   "metadata": {
    "collapsed": true
   },
   "source": [
    "1) If we list all the natural numbers below 20 that are multiples of 3 or 5 but not multiples both of 3 and 5, we get 3, 5, 6, 9, 10, 12, 18. The sum of these multiples is 63. Write a function,sum_multiples_3_5, that returns the sum of the multiples of 3 and 5 but not both less than N."
   ]
  },
  {
   "cell_type": "code",
   "execution_count": 1,
   "metadata": {},
   "outputs": [
    {
     "name": "stdout",
     "output_type": "stream",
     "text": [
      "Multiples Three Or Five: \n",
      "3\n",
      "5\n",
      "6\n",
      "9\n",
      "10\n",
      "12\n",
      "15\n",
      "18\n",
      "Multiples Three And Five: \n",
      "15\n",
      "\n",
      "Sum of multiple of 3 or 5 but not 3 and 5 for N as 20 is 63\n",
      "3\n",
      "5\n",
      "6\n",
      "9\n",
      "10\n",
      "12\n",
      "18\n",
      "\n",
      "Multiples Three Or Five: \n",
      "3\n",
      "5\n",
      "6\n",
      "9\n",
      "10\n",
      "12\n",
      "15\n",
      "18\n",
      "20\n",
      "21\n",
      "24\n",
      "25\n",
      "27\n",
      "Multiples Three And Five: \n",
      "15\n",
      "\n",
      "Sum of multiple of 3 or 5 but not 3 and 5 for N as 30 is 180\n",
      "3\n",
      "5\n",
      "6\n",
      "9\n",
      "10\n",
      "12\n",
      "18\n",
      "20\n",
      "21\n",
      "24\n",
      "25\n",
      "27\n",
      "\n",
      "Multiples Three Or Five: \n",
      "3\n",
      "Multiples Three And Five: \n",
      "\n",
      "Sum of multiple of 3 or 5 but not 3 and 5 for N as 5 is 3\n",
      "3\n",
      "\n",
      "The function does not allow negative values abd thus throws the following Exception: \n"
     ]
    },
    {
     "ename": "",
     "evalue": "",
     "output_type": "error",
     "traceback": [
      "\u001b[31mjava.lang.IllegalArgumentException: requirement failed: The supplied number should be a positive number\u001b[39m",
      "  scala.Predef$.require(\u001b[32mPredef.scala\u001b[39m:\u001b[32m224\u001b[39m)",
      "  $sess.cmd0Wrapper$Helper.sum_multiples_3_5(\u001b[32mcmd0.sc\u001b[39m:\u001b[32m20\u001b[39m)",
      "  $sess.cmd0Wrapper$Helper.<init>(\u001b[32mcmd0.sc\u001b[39m:\u001b[32m73\u001b[39m)",
      "  $sess.cmd0Wrapper.<init>(\u001b[32mcmd0.sc\u001b[39m:\u001b[32m213\u001b[39m)",
      "  $sess.cmd0$.<init>(\u001b[32mcmd0.sc\u001b[39m:\u001b[32m60\u001b[39m)",
      "  $sess.cmd0$.<clinit>(\u001b[32mcmd0.sc\u001b[39m:\u001b[32m-1\u001b[39m)"
     ]
    }
   ],
   "source": [
    "import scala.collection.mutable.ArrayBuffer\n",
    "\n",
    "var result = ArrayBuffer[Int]()\n",
    "\n",
    "def sumMultiplesThreeAndFive(N:Int): BigInt = {\n",
    "    var r = (1 to N-1).toArray\n",
    "    println(\"Multiples Three And Five: \")\n",
    "    r.filter(l => l % 3 == 0 && l % 5 == 0).toArray.foreach(println)\n",
    "    return r.filter(l => l % 3 == 0 && l % 5 == 0).sum\n",
    "}\n",
    "\n",
    "def sumMultiplesThreeOrFive(N:Int): BigInt = {\n",
    "    var r = (1 to N-1).toArray\n",
    "    println(\"Multiples Three Or Five: \")\n",
    "    r.filter(l => l % 3 == 0 || l % 5 == 0).toArray.foreach(println)\n",
    "    return r.filter(l => l % 3 == 0 || l % 5 == 0).sum\n",
    "}\n",
    "\n",
    "def sum_multiples_3_5(threeAndFive: Int => BigInt, threeOrFive:Int => BigInt, N:Int): BigInt = {\n",
    "    require(N>=0, \"The supplied number should be a positive number\")\n",
    "    return threeOrFive(N)-threeAndFive(N)\n",
    "}\n",
    "\n",
    "def testSumMultiples_3_5(N:Int): Int = {\n",
    "    var sum:Int = 0\n",
    "    for(i <- 1 to N-1){\n",
    "        if( ((i % 3 == 0 || i % 5 == 0)  &&  !(i % 3 == 0 && i % 5 == 0))){\n",
    "            sum+=i;\n",
    "            result += i;\n",
    "            \n",
    "        }\n",
    "    }\n",
    "    return sum\n",
    "}\n",
    "\n",
    "var N = 20\n",
    "var nResult = (sum_multiples_3_5(sumMultiplesThreeAndFive _,sumMultiplesThreeOrFive _,N))\n",
    "var nResultTest = testSumMultiples_3_5(N)\n",
    "assert(nResult == nResultTest)\n",
    "println\n",
    "println(\"Sum of multiple of 3 or 5 but not 3 and 5 for N as \"+N+ \" is \" +nResult)\n",
    "(result).foreach(println)\n",
    "\n",
    "result.clear\n",
    "println\n",
    "\n",
    "var A = 30\n",
    "var aResult = (sum_multiples_3_5(sumMultiplesThreeAndFive _,sumMultiplesThreeOrFive _,A))\n",
    "var aResultTest = testSumMultiples_3_5(A)\n",
    "assert(aResult == aResultTest)\n",
    "println\n",
    "println(\"Sum of multiple of 3 or 5 but not 3 and 5 for N as \"+A+\" is \" +aResult)\n",
    "(result).foreach(println)\n",
    "/*The above assert function will fail/throw an Error - \"java.lang.AssertionError: assertion failed\",\n",
    "if the function \"sum_multiples_3_5\" does not return the correct result.*/ \n",
    "\n",
    "result.clear\n",
    "println\n",
    "\n",
    "var B = 5\n",
    "var bResult = (sum_multiples_3_5(sumMultiplesThreeAndFive _,sumMultiplesThreeOrFive _,B))\n",
    "var bResultTest = testSumMultiples_3_5(B)\n",
    "assert(bResult == bResultTest)\n",
    "println\n",
    "println(\"Sum of multiple of 3 or 5 but not 3 and 5 for N as \"+B+\" is \"+bResult)\n",
    "(result).foreach(println)\n",
    "/*The above assert function will fail/throw an Error - \"java.lang.AssertionError: assertion failed\",\n",
    "if the function \"sum_multiples_3_5\" does not return the correct result.*/ \n",
    "\n",
    "println\n",
    "var C = -30\n",
    "println(\"The function does not allow negative values abd thus throws the following Exception: \")\n",
    "var cResult = (sum_multiples_3_5(sumMultiplesThreeAndFive _,sumMultiplesThreeOrFive _,C))\n"
   ]
  },
  {
   "cell_type": "markdown",
   "metadata": {},
   "source": [
    "2) Write a function, pattern_count with two arguments. The first arguments is a string, lets call it text, and the second argument is also a string, call it pattern. The function pattern_count returns the number of times the pattern occurs in the text. For example \n",
    "\n",
    "pattern_count(“abababa”, “aba”) == 3\n",
    "pattern_count(“aaaaa”, “aa”) == 4\n",
    "pattern_count(“Abcde”, “abc”) == 0"
   ]
  },
  {
   "cell_type": "code",
   "execution_count": 2,
   "metadata": {},
   "outputs": [
    {
     "name": "stdout",
     "output_type": "stream",
     "text": [
      "Thus for \"abababa\",\"aba\" the count is: 3\n",
      "Thus for \"aaaaa\",\"aa\" the count is: 4\n",
      "Thus for \"Abcde\",\"abc\" the count is: 0\n",
      "Thus for \"Raghav is a graduate student at SDSU\",\"av\" the count is: 1\n"
     ]
    },
    {
     "data": {
      "text/plain": [
       "defined \u001b[32mfunction\u001b[39m \u001b[36mpatternCount\u001b[39m\n",
       "defined \u001b[32mfunction\u001b[39m \u001b[36mtestPatternCount\u001b[39m"
      ]
     },
     "execution_count": 2,
     "metadata": {},
     "output_type": "execute_result"
    }
   ],
   "source": [
    "def patternCount(text:String, pattern:String): Int = {\n",
    "    require(text.size > 0, \" The input text is empty\")\n",
    "    return text.sliding(pattern.length).filter(_ == pattern).length\n",
    "}\n",
    "\n",
    "def testPatternCount(text:String, pattern:String): Long = {\n",
    "    require(text.size > 0, \" The input text is empty\")\n",
    "    return text.sliding(pattern.length).count(_ == pattern)\n",
    "}\n",
    "\n",
    "assert(patternCount(\"abababa\",\"aba\") == testPatternCount(\"abababa\",\"aba\"))\n",
    "println (\"Thus for \\\"abababa\\\",\\\"aba\\\" the count is: \" + patternCount(\"abababa\",\"aba\"))\n",
    "\n",
    "assert(patternCount(\"aaaaa\",\"aa\") == testPatternCount(\"aaaaa\",\"aa\"))\n",
    "println (\"Thus for \\\"aaaaa\\\",\\\"aa\\\" the count is: \" + patternCount(\"aaaaa\",\"aa\"))\n",
    "\n",
    "assert(patternCount(\"Abcde\",\"abc\") == testPatternCount(\"Abcde\",\"abc\"))\n",
    "println (\"Thus for \\\"Abcde\\\",\\\"abc\\\" the count is: \" + patternCount(\"Abcde\",\"abc\"))\n",
    "\n",
    "assert(patternCount(\"Raghav is a graduate student at SDSU\",\"av\") == testPatternCount(\"Raghav is a graduate student at SDSU\",\"av\"))\n",
    "println (\"Thus for \\\"Raghav is a graduate student at SDSU\\\",\\\"av\\\" the count is: \" + patternCount(\"Raghav is a graduate student at SDSU\",\"av\"))\n",
    "\n",
    "/*The above assert function will fail/throw an Error - \"java.lang.AssertionError: assertion failed\",\n",
    "if the function \"patternCount\" does not return the correct result.*/ "
   ]
  },
  {
   "cell_type": "markdown",
   "metadata": {},
   "source": [
    "3)Implement factorial using “to” and “reduceLeft” without a loop or recursion."
   ]
  },
  {
   "cell_type": "code",
   "execution_count": 3,
   "metadata": {},
   "outputs": [
    {
     "name": "stdout",
     "output_type": "stream",
     "text": [
      "1\n",
      "\n",
      "120\n",
      "\n",
      "1*2*3*4*5: 120\n",
      "\n",
      "1324641819451828974499891837121832599810209360673358065686551152497461815091591578895743130235002378688844343005686404521144382704205360039762937774080000000000000000000000000\n",
      "\n",
      "Thus the function returns the factorial of the supplied N value\n"
     ]
    },
    {
     "data": {
      "text/plain": [
       "defined \u001b[32mfunction\u001b[39m \u001b[36mfactorial\u001b[39m\n",
       "defined \u001b[32mfunction\u001b[39m \u001b[36mtestFactorial\u001b[39m"
      ]
     },
     "execution_count": 3,
     "metadata": {},
     "output_type": "execute_result"
    }
   ],
   "source": [
    "def factorial(n: BigInt): BigInt = {\n",
    "    require(n>=0, \"The supplied number should be a positive number\")\n",
    "    if (n == 0 || n == 1){\n",
    "        println ((BigInt(1) to (1)).reduceLeft(_*_))\n",
    "        println\n",
    "        return (BigInt(1) to (1)).reduceLeft(_*_)\n",
    "    }\n",
    "    else {\n",
    "        println ((BigInt(1) to (n)).reduceLeft(_*_))\n",
    "        println\n",
    "        return (BigInt(1) to (n)).reduceLeft(_*_)\n",
    "    }\n",
    "}\n",
    "\n",
    "def testFactorial(n: BigInt): BigInt = {\n",
    "    def factorial(n: BigInt, accumulator: BigInt): BigInt = {\n",
    "        if (n <= 1)\n",
    "        accumulator\n",
    "        else\n",
    "        factorial(n - 1, n * accumulator)\n",
    "        }\n",
    "    factorial(n, 1)\n",
    "} \n",
    "\n",
    "assert(factorial(1) == testFactorial(1))\n",
    "assert(factorial(5) == testFactorial(5))\n",
    "println(\"1*2*3*4*5: \"+ (1*2*3*4*5))\n",
    "println\n",
    "assert(factorial(108) == testFactorial(108))\n",
    "\n",
    "/*The above assert function will fail/throw an Error - \"java.lang.AssertionError: assertion failed\",\n",
    "if the function \"factorial\" does not return the correct result.*/ \n",
    "\n",
    "println(\"Thus the function returns the factorial of the supplied N value\")\n",
    "\n"
   ]
  },
  {
   "cell_type": "markdown",
   "metadata": {},
   "source": [
    "4) Write a function that receives a collection of strings and a map from strings to integers. Return a collection of integers that are values of the map corresponding to one of the strings in the collection. For example, given Array(\"Tom\", \"Fred\", \"Harry\") and Map(\"Tom\" -> 3, \"Dick\" -> 4, \"Harry\" -> 5), return Array(3, 5)."
   ]
  },
  {
   "cell_type": "code",
   "execution_count": 5,
   "metadata": {},
   "outputs": [
    {
     "name": "stdout",
     "output_type": "stream",
     "text": [
      "3\n",
      "5\n",
      "\n",
      "3\n",
      "5\n",
      "100\n",
      "15\n"
     ]
    },
    {
     "data": {
      "text/plain": [
       "defined \u001b[32mfunction\u001b[39m \u001b[36mstringToCountMap\u001b[39m\n",
       "\u001b[36mres4_1\u001b[39m: \u001b[32mArray\u001b[39m[\u001b[32mAny\u001b[39m] = \u001b[33mArray\u001b[39m(3, 5)\n",
       "\u001b[36mres4_4\u001b[39m: \u001b[32mArray\u001b[39m[\u001b[32mAny\u001b[39m] = \u001b[33mArray\u001b[39m(3, 5, 100, 15)"
      ]
     },
     "execution_count": 5,
     "metadata": {},
     "output_type": "execute_result"
    }
   ],
   "source": [
    "def stringToCountMap(inputArray: Array[String], inputMap:Map[String,Int]) : Array[Any] = {\n",
    "    var result = inputArray.map(x => inputMap.getOrElse(x,\"Not Exists\"))\n",
    "    return result.filter(_ != \"Not Exists\")\n",
    "}\n",
    "\n",
    "stringToCountMap(Array(\"Tom\", \"Fred\", \"Harry\"),Map(\"Tom\" -> 3, \"Dick\" -> 4, \"Harry\" -> 5))\n",
    "stringToCountMap(Array(\"Tom\", \"Fred\", \"Harry\"),Map(\"Tom\" -> 3, \"Dick\" -> 4, \"Harry\" -> 5)).foreach(println)\n",
    "println\n",
    "stringToCountMap(Array(\"Tom\", \"Fred\", \"Harry\", \"Potter\", \"Ron\", \"Bilbo\"),Map(\"Tom\" -> 3, \"Dick\" -> 4, \"Harry\" -> 5, \"Bilbo\" -> 15, \"Ron\"->100))\n",
    "stringToCountMap(Array(\"Tom\", \"Fred\", \"Harry\", \"Potter\", \"Ron\", \"Bilbo\"),Map(\"Tom\" -> 3, \"Dick\" -> 4, \"Harry\" -> 5, \"Bilbo\" -> 15, \"Ron\"->100)).foreach(println)\n"
   ]
  },
  {
   "cell_type": "markdown",
   "metadata": {},
   "source": [
    "5) Implement a function sampleNoRepeats with two arguments. The first argument is a range, the second an integer, n, greater that zero. The function returns n random numbers in the given range with no repeats."
   ]
  },
  {
   "cell_type": "code",
   "execution_count": 6,
   "metadata": {},
   "outputs": [
    {
     "name": "stdout",
     "output_type": "stream",
     "text": [
      "The random numbers are:\n",
      "9\n",
      "5\n",
      "13\n",
      "14\n",
      "20\n",
      "\n",
      "The random numbers are:\n",
      "-3\n",
      "-6\n",
      "2\n",
      "9\n",
      "-9\n",
      "3\n",
      "-1\n",
      "10\n",
      "Thus the function returns n random numbers in the given range with no repeats.\n"
     ]
    },
    {
     "data": {
      "text/plain": [
       "\u001b[32mimport \u001b[39m\u001b[36mscala.collection.mutable.ArrayBuffer\n",
       "\u001b[39m\n",
       "\u001b[36mr\u001b[39m: \u001b[32mutil\u001b[39m.\u001b[32mRandom\u001b[39m = scala.util.Random@63f17324\n",
       "defined \u001b[32mfunction\u001b[39m \u001b[36mrandomNumberGenerator\u001b[39m\n",
       "defined \u001b[32mfunction\u001b[39m \u001b[36msampleNoRepeats\u001b[39m"
      ]
     },
     "execution_count": 6,
     "metadata": {},
     "output_type": "execute_result"
    }
   ],
   "source": [
    "import scala.collection.mutable.ArrayBuffer\n",
    "val r = new scala.util.Random()\n",
    "def randomNumberGenerator(range:Range) = {\n",
    "    r.nextInt((range.end - range.start) + 1) + range.start\n",
    "}\n",
    "\n",
    "def sampleNoRepeats(range:Range, n:Int) : Array[Int] = {\n",
    "    require(n>0)\n",
    "    require(((range.end - range.start) >= n),\" Can not generate random numbers with these range values\")\n",
    "    require(((range.end - range.start) > 0),\" Can not generate random numbers with these range values\")\n",
    "    var randomNumbers = ArrayBuffer[Int]()\n",
    "    while (randomNumbers.size < n){\n",
    "        var ran = randomNumberGenerator(range)\n",
    "        if(!(randomNumbers.contains(ran)))\n",
    "         randomNumbers += ran;\n",
    "    }\n",
    "    return randomNumbers.toArray\n",
    "}\n",
    "\n",
    "\n",
    "assert((sampleNoRepeats(Range(5, 20),5)).size == (sampleNoRepeats(Range(5,20),5)).distinct.size)\n",
    "println(\"The random numbers are:\")\n",
    "(sampleNoRepeats(Range(5, 20),5)).foreach(println)\n",
    "//The above assert function will fail/throw an Error - \"java.lang.AssertionError: assertion failed\", if the function \"sampleNoRepeats\" does not return n random numbers in the given range with no repeats.\n",
    "\n",
    "println\n",
    "assert((sampleNoRepeats(Range(-10, 10),8)).size == (sampleNoRepeats(Range(-10, 10),8)).distinct.size)\n",
    "println(\"The random numbers are:\")\n",
    "(sampleNoRepeats(Range(-10, 10),8)).foreach(println)\n",
    "//The above assert function will fail/throw an Error - \"java.lang.AssertionError: assertion failed\", if the function \"sampleNoRepeats\" does not return n random numbers in the given range with no repeats.\n",
    "\n",
    "//Note: Range taken Inclusive of the given input values\n",
    "\n",
    "println(\"Thus the function returns n random numbers in the given range with no repeats.\")"
   ]
  },
  {
   "cell_type": "markdown",
   "metadata": {},
   "source": [
    "6) Create an array with random 100,000 integers between 0 and 50,000. Compute the mean value of the array, call it M. Take a random sample of 100 different elements (sampling without replacement) of the array and compute the mean of the sample. What is the error?"
   ]
  },
  {
   "cell_type": "code",
   "execution_count": 7,
   "metadata": {},
   "outputs": [
    {
     "name": "stdout",
     "output_type": "stream",
     "text": [
      "Mean of randomNumbers Array: 24981.30097\n",
      "Mean of the sample: 28753.51\n",
      "Error using means: 15.100130431677828 %\n",
      "Standard Error: 2875.3509999999997\n"
     ]
    },
    {
     "data": {
      "text/plain": [
       "\u001b[36mrandomNumbers\u001b[39m: \u001b[32mArray\u001b[39m[\u001b[32mInt\u001b[39m] = \u001b[33mArray\u001b[39m(\n",
       "  \u001b[32m24032\u001b[39m,\n",
       "  \u001b[32m32455\u001b[39m,\n",
       "  \u001b[32m42593\u001b[39m,\n",
       "  \u001b[32m4040\u001b[39m,\n",
       "  \u001b[32m28081\u001b[39m,\n",
       "  \u001b[32m34669\u001b[39m,\n",
       "  \u001b[32m11594\u001b[39m,\n",
       "  \u001b[32m17235\u001b[39m,\n",
       "  \u001b[32m38262\u001b[39m,\n",
       "  \u001b[32m13599\u001b[39m,\n",
       "  \u001b[32m37915\u001b[39m,\n",
       "\u001b[33m...\u001b[39m\n",
       "defined \u001b[32mfunction\u001b[39m \u001b[36mkahanSum\u001b[39m\n",
       "\u001b[36mM\u001b[39m: \u001b[32mDouble\u001b[39m = \u001b[32m24981.30097\u001b[39m\n",
       "\u001b[36msample\u001b[39m: \u001b[32mArray\u001b[39m[\u001b[32mInt\u001b[39m] = \u001b[33mArray\u001b[39m(\n",
       "  \u001b[32m24032\u001b[39m,\n",
       "  \u001b[32m32455\u001b[39m,\n",
       "  \u001b[32m42593\u001b[39m,\n",
       "  \u001b[32m4040\u001b[39m,\n",
       "  \u001b[32m28081\u001b[39m,\n",
       "  \u001b[32m34669\u001b[39m,\n",
       "  \u001b[32m11594\u001b[39m,\n",
       "  \u001b[32m17235\u001b[39m,\n",
       "  \u001b[32m38262\u001b[39m,\n",
       "  \u001b[32m13599\u001b[39m,\n",
       "  \u001b[32m37915\u001b[39m,\n",
       "\u001b[33m...\u001b[39m\n",
       "\u001b[36mm\u001b[39m: \u001b[32mDouble\u001b[39m = \u001b[32m28753.51\u001b[39m\n",
       "\u001b[36merror\u001b[39m: \u001b[32mDouble\u001b[39m = \u001b[32m0.15100130431677827\u001b[39m\n",
       "\u001b[36mstandardError\u001b[39m: \u001b[32mDouble\u001b[39m = \u001b[32m2875.3509999999997\u001b[39m"
      ]
     },
     "execution_count": 7,
     "metadata": {},
     "output_type": "execute_result"
    }
   ],
   "source": [
    "val randomNumbers = Array.fill(100000)(50000).map(scala.util.Random.nextInt)\n",
    "\n",
    "def kahanSum(input:Array[Int]) = {\n",
    "    var sum = 0.0\n",
    "    var lostBits = 0.0\n",
    "    for (element <- input) {\n",
    "        val y = element - lostBits\n",
    "        val newSum = sum + y\n",
    "        lostBits = (newSum - sum) - y\n",
    "        sum = newSum \n",
    "        \n",
    "    }\n",
    "    sum\n",
    "}\n",
    "\n",
    "var M = kahanSum(randomNumbers)/100000\n",
    "\n",
    "var sample = randomNumbers.distinct.take(100)\n",
    "\n",
    "var m = kahanSum(sample)/100\n",
    "\n",
    "println(\"Mean of randomNumbers Array: \"+ M)\n",
    "println(\"Mean of the sample: \"+ m)\n",
    "\n",
    "var error = (scala.math.abs(M-m)/M)\n",
    "println(\"Error using means: \"+error*100+\" %\")\n",
    "\n",
    "var standardError = m/scala.math.sqrt(sample.size)\n",
    "println(\"Standard Error: \"+standardError)\n",
    "\n"
   ]
  },
  {
   "cell_type": "markdown",
   "metadata": {},
   "source": [
    "7) Using the same array as in #6 take 1,000 samples of 100 random elements of the array. Compute the mean of each sample. Find the value r where interval (M-r, M+r) contains 95% of the means of the 1000 samples."
   ]
  },
  {
   "cell_type": "code",
   "execution_count": 8,
   "metadata": {},
   "outputs": [
    {
     "name": "stdout",
     "output_type": "stream",
     "text": [
      "Mean of randomNumbers Array: 24981.30097\n",
      "Average of all Samples: 24904.58891108891\n",
      "Confidence Interval: 23360.986498164326,26448.191324013496\n",
      "r: 1543.6024129245866\n",
      "\n"
     ]
    },
    {
     "data": {
      "text/plain": [
       "\u001b[32mimport \u001b[39m\u001b[36mscala.collection.mutable.ArrayBuffer\n",
       "\n",
       "\u001b[39m\n",
       "defined \u001b[32mfunction\u001b[39m \u001b[36mkahanSum\u001b[39m\n",
       "defined \u001b[32mfunction\u001b[39m \u001b[36mkahanSumDecimal\u001b[39m\n",
       "defined \u001b[32mfunction\u001b[39m \u001b[36minterval\u001b[39m"
      ]
     },
     "execution_count": 8,
     "metadata": {},
     "output_type": "execute_result"
    }
   ],
   "source": [
    "import scala.collection.mutable.ArrayBuffer\n",
    "\n",
    "def kahanSum(input:Array[Int]) = {\n",
    "    var sum = 0.0\n",
    "    var lostBits = 0.0\n",
    "    for (element <- input) {\n",
    "        val y = element - lostBits\n",
    "        val newSum = sum + y\n",
    "        lostBits = (newSum - sum) - y\n",
    "        sum = newSum \n",
    "        \n",
    "    }\n",
    "    sum\n",
    "}\n",
    "\n",
    "def kahanSumDecimal(input:Array[Double]) = {\n",
    "    var sum = 0.0\n",
    "    var lostBits = 0.0\n",
    "    for (element <- input) {\n",
    "        val y = element - lostBits\n",
    "        val newSum = sum + y\n",
    "        lostBits = (newSum - sum) - y\n",
    "        sum = newSum \n",
    "        \n",
    "    }\n",
    "    sum\n",
    "}\n",
    "\n",
    "\n",
    "def interval(sampleSize:Int) = {\n",
    "\n",
    "    val rScala = scala.util.Random\n",
    "    var M = kahanSum(randomNumbers)/randomNumbers.size\n",
    "    println(\"Mean of randomNumbers Array: \" + M)\n",
    "    var means = ArrayBuffer[Double]()\n",
    "    for (i <- 0 to 1000){\n",
    "        var sRandomNumbers = rScala.shuffle(randomNumbers.toList)\n",
    "        var sample =sRandomNumbers.distinct.take(sampleSize)\n",
    "        var mean  = kahanSum(sample.toArray)/sample.size\n",
    "        means += (mean)\n",
    "    }\n",
    "    var averageofSamples = kahanSumDecimal(means.toArray)/means.toArray.size\n",
    "    var r = 1.96*(averageofSamples/scala.math.sqrt(1000))\n",
    "    var lowerConfidence = averageofSamples - r\n",
    "    var upperConfidence = averageofSamples + r\n",
    "    println(\"Average of all Samples: \"+averageofSamples)\n",
    "    println(\"Confidence Interval: \"+lowerConfidence+\",\"+upperConfidence)\n",
    "    println (\"r: \"+r)\n",
    "    println\n",
    "}\n",
    "\n",
    "interval(100)"
   ]
  },
  {
   "cell_type": "markdown",
   "metadata": {},
   "source": [
    "8) Repeat #7 but use the sample size of 1,000 rather than 100"
   ]
  },
  {
   "cell_type": "code",
   "execution_count": 9,
   "metadata": {},
   "outputs": [
    {
     "name": "stdout",
     "output_type": "stream",
     "text": [
      "Mean of randomNumbers Array: 24981.30097\n",
      "Average of all Samples: 24969.802908091908\n",
      "Confidence Interval: 23422.158489756606,26517.44732642721\n",
      "r: 1547.6444183353028\n",
      "\n"
     ]
    }
   ],
   "source": [
    "interval(1000)"
   ]
  },
  {
   "cell_type": "markdown",
   "metadata": {},
   "source": [
    "9) Repeat #8 but use the sample size of 10,000 rather than 100. "
   ]
  },
  {
   "cell_type": "code",
   "execution_count": 10,
   "metadata": {},
   "outputs": [
    {
     "name": "stdout",
     "output_type": "stream",
     "text": [
      "Mean of randomNumbers Array: 24981.30097\n",
      "Average of all Samples: 24987.292622977024\n",
      "Confidence Interval: 23438.56418088231,26536.021065071738\n",
      "r: 1548.7284420947155\n",
      "\n"
     ]
    }
   ],
   "source": [
    "interval(10000)"
   ]
  },
  {
   "cell_type": "markdown",
   "metadata": {},
   "source": [
    "Note: Please run 6) before running 7), 8), 9)"
   ]
  },
  {
   "cell_type": "code",
   "execution_count": null,
   "metadata": {
    "collapsed": true
   },
   "outputs": [],
   "source": []
  }
 ],
 "metadata": {
  "kernelspec": {
   "display_name": "Scala",
   "language": "scala",
   "name": "scala"
  },
  "language_info": {
   "codemirror_mode": "text/x-scala",
   "file_extension": ".scala",
   "mimetype": "text/x-scala",
   "name": "scala211",
   "nbconvert_exporter": "script",
   "pygments_lexer": "scala",
   "version": "2.11.11"
  }
 },
 "nbformat": 4,
 "nbformat_minor": 2
}
