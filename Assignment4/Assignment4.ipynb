{
 "cells": [
  {
   "cell_type": "markdown",
   "metadata": {},
   "source": [
    "Total: 47/50"
   ]
  },
  {
   "cell_type": "markdown",
   "metadata": {},
   "source": [
    "Imports"
   ]
  },
  {
   "cell_type": "code",
   "execution_count": 1,
   "metadata": {
    "collapsed": true
   },
   "outputs": [],
   "source": [
    "import org.apache.spark.sql.types.{StructField, StructType, StringType, DoubleType, IntegerType}\n",
    "import org.apache.spark.sql.types._\n",
    "import org.apache.spark.sql.functions._\n",
    "import org.apache.spark.SparkContext\n",
    "import org.apache.spark.mllib.random.RandomRDDs._\n",
    "import org.apache.spark.rdd\n",
    "import org.apache.spark.sql.DataFrameReader\n",
    "import org.apache.spark.mllib.rdd.RDDFunctions._\n",
    "import org.apache.spark.ml.feature.Bucketizer\n",
    "import org.apache.spark.sql.functions.col\n",
    "import org.apache.spark.sql.DataFrameNaFunctions\n",
    "import org.apache.spark.sql.Row\n",
    "import org.apache.spark.ml.feature.StringIndexer\n",
    "import org.apache.spark.ml.feature.RFormula\n",
    "import org.apache.spark.ml.classification.LogisticRegression\n",
    "import org.apache.spark.SparkContext\n",
    "import org.apache.spark.SparkContext._\n",
    "import org.apache.spark.SparkConf\n",
    "import org.apache.spark.rdd.RDD\n",
    "import org.apache.spark.ml.classification.LogisticRegression\n",
    "import scala.collection.mutable\n",
    "import org.apache.spark.ml.{Pipeline, PipelineStage}\n",
    "import org.apache.spark.ml.classification.{LogisticRegression, LogisticRegressionModel} \n",
    "import org.apache.spark.ml.regression.DecisionTreeRegressionModel\n",
    "import org.apache.spark.ml.regression.DecisionTreeRegressor\n",
    "import org.apache.spark.ml.feature.Binarizer"
   ]
  },
  {
   "cell_type": "markdown",
   "metadata": {},
   "source": [
    "1) Did age have any affect on the survival of the passengers? Divide the passengers into age groups spanning 5 years each - [0, 5), [5, 10), [10, 15), … . For each group compute the number of passengers in each group. Then compute the percent of survivors in each group"
   ]
  },
  {
   "cell_type": "code",
   "execution_count": 2,
   "metadata": {
    "scrolled": false
   },
   "outputs": [
    {
     "name": "stdout",
     "output_type": "stream",
     "text": [
      "+----------+------------+-----------------+------------------------+\n",
      "|Age Groups|Count of All|Count of Survived|Percent of Survivors - %|\n",
      "+----------+------------+-----------------+------------------------+\n",
      "|     [0,5)|          50|               32|                    64.0|\n",
      "|    [5,10)|          31|               17|       54.83870967741935|\n",
      "|   [10,15)|          27|               11|       40.74074074074074|\n",
      "|   [15,20)|         116|               45|      38.793103448275865|\n",
      "|   [20,25)|         184|               71|       38.58695652173913|\n",
      "|   [25,30)|         424|              130|      30.660377358490564|\n",
      "|   [30,35)|         132|               54|      40.909090909090914|\n",
      "|   [35,40)|         100|               44|                    44.0|\n",
      "|   [40,45)|          69|               20|      28.985507246376812|\n",
      "|   [45,50)|          66|               32|      48.484848484848484|\n",
      "|   [55,60)|          43|               21|      48.837209302325576|\n",
      "|   [60,65)|          27|               11|       40.74074074074074|\n",
      "|   [65,70)|          27|               10|       37.03703703703704|\n",
      "|   [80,85)|           1|                1|                   100.0|\n",
      "|   [85,90)|           1|                1|                   100.0|\n",
      "+----------+------------+-----------------+------------------------+\n",
      "\n"
     ]
    }
   ],
   "source": [
    "val reader = spark.read\n",
    "\n",
    "val titanic = reader.format(\"csv\").option(\"header\",true).\n",
    "option(\"delimiter\", \"\\t\").option(\"inferschema\",true).load(\"titanic.tsv\").\n",
    "withColumnRenamed(\"home.dest\",\"homeDest\")\n",
    "\n",
    "val averageAge = titanic.select(avg(col(\"age\")))\n",
    "val averageCalculatedAge = averageAge.first().getDouble(0)\n",
    "val titanicFilled = titanic.na.fill(averageCalculatedAge,Seq(\"age\"))\n",
    "\n",
    "val splits = Array(0.0,5.0,10.0,15.0,20.0,25.0,30.0,35.0,40.0,45.0,50.0,55.0,60.0,65.0,70.0,75.0,80.0,85.0,90.0)\n",
    "\n",
    "val bucketizer = new Bucketizer().\n",
    "setInputCol(\"age\").\n",
    "setOutputCol(\"bucketedAge\").\n",
    "setSplits(splits)\n",
    "\n",
    "val bucketedData = bucketizer.transform(titanicFilled)\n",
    "\n",
    "val everyOne = bucketedData.groupBy(\"bucketedAge\").count().\n",
    "withColumnRenamed(\"count\",\"Count of All\")\n",
    "\n",
    "val alive = bucketedData.where(\"survived == 'y'\").groupBy(\"bucketedAge\").count().\n",
    "withColumnRenamed(\"count\",\"Count of Survived\")\n",
    "\n",
    "val finalTable = everyOne.join(alive, Seq(\"bucketedAge\")).sort(\"bucketedAge\")\n",
    "val PercentageSurvivors = finalTable.select(col(\"bucketedAge\"),col(\"Count of All\"),col(\"Count of Survived\"),((col(\"Count of Survived\")/col(\"Count of All\"))*100).as(\"Percent of Survivors - %\"))\n",
    "\n",
    "val rangeDataFrame = spark.createDataFrame(Seq((0.0, \"[0,5)\"),(1.0, \"[5,10)\"),(2.0, \"[10,15)\"),(3.0, \"[15,20)\"),(4.0, \"[20,25)\"),(5.0, \"[25,30)\")\n",
    ",(6.0, \"[30,35)\"),(7.0, \"[35,40)\"),(8.0, \"[40,45)\"),(9.0, \"[45,50)\"),(10.0, \"[55,60)\"),(11.0, \"[60,65)\")\n",
    ",(12.0, \"[65,70)\"),(13.0, \"[70,75)\"),(14.0, \"[75,80)\"),(15.0, \"[80,85)\"), (16.0, \"[85,90)\"))).toDF(\"bucketedAge\",\"Age Groups\")\n",
    "\n",
    "val resultOneR1  = rangeDataFrame.join(PercentageSurvivors, Seq(\"bucketedAge\"))\n",
    "val resultOneR = resultOneR1.drop(resultOneR1.col(\"bucketedAge\")) \n",
    "resultOneR.show\n"
   ]
  },
  {
   "cell_type": "code",
   "execution_count": null,
   "metadata": {
    "collapsed": true
   },
   "outputs": [],
   "source": [
    "-1: Hard coding for age groups.\n",
    "-1: Determining correlation would have produced accurate results."
   ]
  },
  {
   "cell_type": "markdown",
   "metadata": {},
   "source": [
    "# Inference\n",
    "- It can be deduced from the above table that children (0 to 18) have approximately 50% chances of survival and old aged people (60 to 90) have approximately 79% chances of survival while adults (18 to 59) have 41% chances of survival."
   ]
  },
  {
   "cell_type": "markdown",
   "metadata": {},
   "source": [
    "For the following problems divide the data into a training set and a test set. After you have created your models in problems 2-4 compute the percent false positives and false negatives you get from your model on the test set."
   ]
  },
  {
   "cell_type": "markdown",
   "metadata": {},
   "source": [
    "2) Logistic on age. Using logistic regression with independent variable age and dependent variable survived create a model to classify passengers as survivors."
   ]
  },
  {
   "cell_type": "code",
   "execution_count": null,
   "metadata": {
    "collapsed": true
   },
   "outputs": [],
   "source": []
  },
  {
   "cell_type": "code",
   "execution_count": 7,
   "metadata": {},
   "outputs": [
    {
     "name": "stdout",
     "output_type": "stream",
     "text": [
      "Coefficients: [-0.00857435917162859] Intercept: -0.21399430003990538\n",
      "+-----+------+-------+-----+-------------------------------+-----------------------------+\n",
      "|label|errors|Correct|Total|%-False Positive,False Negative|%-True Negative,True Positive|\n",
      "+-----+------+-------+-----+-------------------------------+-----------------------------+\n",
      "|  0.0|     0|    239|  239|                            0.0|                        100.0|\n",
      "|  1.0|   143|      0|  143|                          100.0|                          0.0|\n",
      "+-----+------+-------+-----+-------------------------------+-----------------------------+\n",
      "\n",
      "False Positive: 0.0%\n",
      "False Negative: 100.0%\n",
      "Mis-classification: 37.43455497382199%\n"
     ]
    }
   ],
   "source": [
    "val reader = spark.read\n",
    "\n",
    "val titanicTwo = reader.format(\"csv\").option(\"header\",true).\n",
    "option(\"delimiter\", \"\\t\").option(\"inferschema\",true).load(\"titanic.tsv\").\n",
    "withColumnRenamed(\"home.dest\",\"homeDest\")\n",
    "\n",
    "val averageAge = titanicTwo.select(avg(col(\"age\")))\n",
    "val averageCalculatedAge = averageAge.first().getDouble(0)\n",
    "val titanicFilledTwo = titanicTwo.na.fill(averageCalculatedAge,Seq(\"age\"))\n",
    "\n",
    "val survivedFormula = new RFormula().setFormula(\"survived ~ age\")\n",
    "\n",
    "val fittedRF = survivedFormula.fit(titanicFilledTwo)\n",
    "val preparedDF = fittedRF.transform(titanicFilledTwo)\n",
    "\n",
    "val preparedFilteredDF = preparedDF.select(col(\"age\"),col(\"survived\"),col(\"features\"),col(\"label\"))\n",
    "\n",
    "val Array(train,test) = preparedFilteredDF.randomSplit(Array(0.7,0.3))\n",
    "\n",
    "val lr = new LogisticRegression()\n",
    "val lrModel = lr.fit(train)\n",
    "println(s\"Coefficients: ${lrModel.coefficients} Intercept: ${lrModel.intercept}\")\n",
    "\n",
    "val resultPredictions = lrModel.evaluate(test).predictions\n",
    "\n",
    "val wrongPredictions = resultPredictions.where(expr(\"label != prediction\"))\n",
    "val countErrors = wrongPredictions.groupBy(\"label\").agg(count(\"prediction\").alias(\"errors\"))\n",
    "\n",
    "val correctPredictions = resultPredictions.where(expr(\"label == prediction\"))\n",
    "val countCorrectPredictions = correctPredictions.groupBy(\"label\").agg(count(\"prediction\").alias(\"Correct\"))\n",
    "\n",
    "val TableOneS = countErrors.join(countCorrectPredictions, Seq(\"label\"), \"outer\").na.fill(0,Seq(\"errors\")).na.fill(0,Seq(\"Correct\"))\n",
    "val TableTwoS = TableOneS.withColumn(\"Total\",(col(\"errors\")+col(\"Correct\")))\n",
    "val TableThreeS = TableTwoS.withColumn(\"%-False Positive,False Negative\", ((col(\"errors\")/col(\"Total\"))*100)).withColumn(\"%-True Negative,True Positive\", ((col(\"correct\")/col(\"Total\"))*100))\n",
    "TableThreeS.show\n",
    "\n",
    "val totalS = TableThreeS.where(\"label == 0.0\").first.getLong(1)+TableThreeS.where(\"label == 0.0\").first.getLong(2)+ TableThreeS.where(\"label == 1.0\").first.getLong(1)+ TableThreeS.where(\"label == 1.0\").first.getLong(2)\n",
    "val falseS = TableThreeS.where(\"label == 0.0\").first.getLong(1)+TableThreeS.where(\"label == 1.0\").first.getLong(1)\n",
    "\n",
    "println(\"False Positive: \" + TableThreeS.where(\"label == 0.0\").first.getDouble(4) + \"%\")\n",
    "println(\"False Negative: \" + TableThreeS.where(\"label == 1.0\").first.getDouble(4) + \"%\")\n",
    "println(\"Mis-classification: \" + ((falseS.toDouble/totalS.toDouble)*100)+ \"%\")"
   ]
  },
  {
   "cell_type": "code",
   "execution_count": null,
   "metadata": {
    "collapsed": true
   },
   "outputs": [],
   "source": [
    "-1: False positives is expected to be non-zero."
   ]
  },
  {
   "cell_type": "markdown",
   "metadata": {},
   "source": [
    "3) Logistic on age, sex and pclass. Same as problem two but use independent variables sex, age, and pclass. Since sex and pclass are categorical they need special treatment. "
   ]
  },
  {
   "cell_type": "code",
   "execution_count": 4,
   "metadata": {
    "collapsed": true
   },
   "outputs": [],
   "source": [
    "val reader = spark.read\n",
    "\n",
    "val titanicFour = reader.format(\"csv\").option(\"header\",true).\n",
    "option(\"delimiter\", \"\\t\").option(\"inferschema\",true).load(\"titanic.tsv\").\n",
    "withColumnRenamed(\"home.dest\",\"homeDest\")\n",
    "\n",
    "val averageAge = titanicFour.select(avg(col(\"age\")))\n",
    "val averageCalculatedAge = averageAge.first().getDouble(0)\n",
    "val titanicFilledFour = titanicFour.na.fill(averageCalculatedAge,Seq(\"age\"))\n",
    "\n",
    "val trimmedTitanicFilledFour = titanicFilledFour.select(col(\"survived\"),col(\"sex\"),col(\"age\"),col(\"pclass\"))\n",
    "\n",
    "val indexerS = new StringIndexer().setInputCol(\"sex\").setOutputCol(\"sexIndex\")\n",
    "val indexedS = indexerS.fit(trimmedTitanicFilledFour).transform(trimmedTitanicFilledFour)\n",
    "//indexedS.show()\n",
    "\n",
    "val indexerPC = new StringIndexer().setInputCol(\"pclass\").setOutputCol(\"pclassIndex\")\n",
    "val indexedPC = indexerPC.fit(indexedS).transform(indexedS)\n",
    "//indexedPC.show(150)\n",
    "\n",
    "val Array(trainFour, testFour) = indexedPC.randomSplit(Array(0.7, 0.3))"
   ]
  },
  {
   "cell_type": "code",
   "execution_count": 5,
   "metadata": {},
   "outputs": [
    {
     "name": "stdout",
     "output_type": "stream",
     "text": [
      "Coefficients: [-0.017873882643542453,2.419825794214862,0.5971172350419962] Intercept: -1.419504110164697\n",
      "+-----+------+-------+-----+--------------------------------+-----------------------------+\n",
      "|label|errors|Correct|Total|%-False Positive, False Negative|%-True Negative,True Positive|\n",
      "+-----+------+-------+-----+--------------------------------+-----------------------------+\n",
      "|  0.0|    32|    203|  235|              13.617021276595745|            86.38297872340426|\n",
      "|  1.0|    56|    108|  164|              34.146341463414636|            65.85365853658537|\n",
      "+-----+------+-------+-----+--------------------------------+-----------------------------+\n",
      "\n",
      "False Positive: 13.617021276595745%\n",
      "False Negative: 34.146341463414636%\n",
      "Mis-classification: 22.05513784461153%\n"
     ]
    }
   ],
   "source": [
    "val stages = new mutable.ArrayBuffer[PipelineStage]()\n",
    "stages += new RFormula().setFormula(\"survived ~ age + sexIndex + pclassIndex\")\n",
    "stages += new LogisticRegression().setLabelCol(\"label\").setFeaturesCol(\"features\")\n",
    "\n",
    "val pipeline = new Pipeline().setStages(stages.toArray)\n",
    "\n",
    "val pipelineModel = pipeline.fit(trainFour)\n",
    "val lorModel = pipelineModel.stages.last.asInstanceOf[LogisticRegressionModel]\n",
    "\n",
    "println(s\"Coefficients: ${lorModel.coefficients} Intercept: ${lorModel.intercept}\")\n",
    "\n",
    "val survivalFormula = new RFormula().setFormula(\"survived ~ age + sexIndex + pclassIndex\")\n",
    "val survivalFormulaFittedRF = survivalFormula.fit(testFour)\n",
    "val survivalFormulapreparedDF = survivalFormulaFittedRF.transform(testFour)\n",
    "\n",
    "val resultPredictionsFour = lorModel.transform(survivalFormulapreparedDF)\n",
    "\n",
    "val wrongPredictionsFour = resultPredictionsFour.where(expr(\"label != prediction\"))\n",
    "val countErrorsFour = wrongPredictionsFour.groupBy(\"label\").agg(count(\"prediction\").alias(\"errors\"))\n",
    "//countErrorsFour.show\n",
    "\n",
    "val correctPredictionsFour = resultPredictionsFour.where(expr(\"label == prediction\"))\n",
    "val countCorrectPredictionsFour = correctPredictionsFour.groupBy(\"label\").agg(count(\"prediction\").alias(\"Correct\"))\n",
    "//countCorrectPredictionsFour.show\n",
    "\n",
    "val TableOne = countErrorsFour.join(countCorrectPredictionsFour, Seq(\"label\"))\n",
    "val TableTwo = TableOne.withColumn(\"Total\",(col(\"errors\")+col(\"Correct\"))).na.fill(0,Seq(\"errors\")).na.fill(0,Seq(\"Correct\"))\n",
    "val TableThree = TableTwo.withColumn(\"%-False Positive, False Negative\", ((col(\"errors\")/col(\"Total\"))*100)).withColumn(\"%-True Negative,True Positive\", ((col(\"correct\")/col(\"Total\"))*100))\n",
    "TableThree.show\n",
    "\n",
    "val totalR = TableThree.where(\"label == 0.0\").first.getLong(1)+TableThree.where(\"label == 0.0\").first.getLong(2)+ TableThree.where(\"label == 1.0\").first.getLong(1)+ TableThree.where(\"label == 1.0\").first.getLong(2)\n",
    "val falseR = TableThree.where(\"label == 0.0\").first.getLong(1)+TableThree.where(\"label == 1.0\").first.getLong(1)\n",
    "\n",
    "println(\"False Positive: \" + TableThree.where(\"label == 0.0\").first.getDouble(4) + \"%\")\n",
    "println(\"False Negative: \" + TableThree.where(\"label == 1.0\").first.getDouble(4) + \"%\")\n",
    "println(\"Mis-classification: \" + ((falseR.toDouble/totalR.toDouble)*100)+ \"%\")"
   ]
  },
  {
   "cell_type": "markdown",
   "metadata": {},
   "source": [
    "4) Decision tree. Instead of using logistic regression use Decision tree with the independent variables sex, age, and pclass"
   ]
  },
  {
   "cell_type": "code",
   "execution_count": 6,
   "metadata": {},
   "outputs": [
    {
     "name": "stdout",
     "output_type": "stream",
     "text": [
      "+-----+------+-------+-----+--------------------------------+-----------------------------+\n",
      "|label|errors|Correct|Total|%-False Positive, False Negative|%-True Negative,True Positive|\n",
      "+-----+------+-------+-----+--------------------------------+-----------------------------+\n",
      "|  0.0|    26|    209|  235|              11.063829787234042|            88.93617021276596|\n",
      "|  1.0|    61|    103|  164|               37.19512195121951|            62.80487804878049|\n",
      "+-----+------+-------+-----+--------------------------------+-----------------------------+\n",
      "\n",
      "False Positive: 11.063829787234042%\n",
      "False Negative: 37.19512195121951%\n",
      "Mis-classification: 21.804511278195488%\n"
     ]
    }
   ],
   "source": [
    "val dStages = new mutable.ArrayBuffer[PipelineStage]()\n",
    "dStages += new RFormula().setFormula(\"survived ~ age + sexIndex + pclassIndex\")\n",
    "dStages += new DecisionTreeRegressor().setLabelCol(\"label\").setFeaturesCol(\"features\")\n",
    "\n",
    "val dPipeline = new Pipeline().setStages(dStages.toArray)\n",
    "\n",
    "val dPipelineModel = dPipeline.fit(trainFour)\n",
    "val dLorModel = dPipelineModel.stages.last.asInstanceOf[DecisionTreeRegressionModel]\n",
    "\n",
    "val survivalFormula = new RFormula().setFormula(\"survived ~ age + sexIndex + pclassIndex\")\n",
    "val survivalFormulaFittedRF = survivalFormula.fit(testFour)\n",
    "val survivalFormulapreparedDF = survivalFormulaFittedRF.transform(testFour)\n",
    "\n",
    "val dResultPredictions = dLorModel.transform(survivalFormulapreparedDF)\n",
    "\n",
    "val binarizer: Binarizer = new Binarizer().\n",
    "  setInputCol(\"prediction\").\n",
    "  setOutputCol(\"binarized_prediction\").\n",
    "  setThreshold(0.5)\n",
    "\n",
    "val predictionBinary = binarizer.transform(dResultPredictions) \n",
    "\n",
    "val dWrongPredictionsFour = predictionBinary.where(expr(\"label != binarized_prediction\"))\n",
    "val dCountErrorsFour = dWrongPredictionsFour.groupBy(\"label\").agg(count(\"binarized_prediction\").alias(\"errors\"))\n",
    "//dCountErrorsFour.show\n",
    "\n",
    "val dCorrectPredictionsFour = predictionBinary.where(expr(\"label == binarized_prediction\"))\n",
    "val dCountCorrectPredictionsFour = dCorrectPredictionsFour.groupBy(\"label\").agg(count(\"binarized_prediction\").alias(\"Correct\"))\n",
    "//dCountCorrectPredictionsFour.show\n",
    "\n",
    "val dTableOne = dCountErrorsFour.join(dCountCorrectPredictionsFour, Seq(\"label\"), \"outer\").na.fill(0,Seq(\"errors\")).na.fill(0,Seq(\"Correct\"))\n",
    "val dTableTwo = dTableOne.withColumn(\"Total\",(col(\"errors\")+col(\"Correct\")))\n",
    "val dTableThree = dTableTwo.withColumn(\"%-False Positive, False Negative\", ((col(\"errors\")/col(\"Total\"))*100)).withColumn(\"%-True Negative,True Positive\", ((col(\"correct\")/col(\"Total\"))*100))\n",
    "dTableThree.show\n",
    "\n",
    "val dtotal = dTableThree.where(\"label == 0.0\").first.getLong(1)+dTableThree.where(\"label == 0.0\").first.getLong(2)+ dTableThree.where(\"label == 1.0\").first.getLong(1)+ dTableThree.where(\"label == 1.0\").first.getLong(2)\n",
    "val dfalse = dTableThree.where(\"label == 0.0\").first.getLong(1)+dTableThree.where(\"label == 1.0\").first.getLong(1)\n",
    "\n",
    "println(\"False Positive: \" + dTableThree.where(\"label == 0.0\").first.getDouble(4) + \"%\")\n",
    "println(\"False Negative: \" + dTableThree.where(\"label == 1.0\").first.getDouble(4) + \"%\")\n",
    "println(\"Mis-classification: \" + ((dfalse.toDouble/dtotal.toDouble)*100)+ \"%\")"
   ]
  },
  {
   "cell_type": "markdown",
   "metadata": {},
   "source": [
    "5) How do the models created in problems 2-4 compare based on the false positives & false negatives the produce on your test data."
   ]
  },
  {
   "cell_type": "markdown",
   "metadata": {
    "collapsed": true
   },
   "source": [
    "Ans 5) \n",
    "- From problem 2 it can be inferred that the logistic regression model created using age as the independent variable and survived as dependednt variable results in False Positive being 0.0% and False Negative being 100%. Thus the miss-classification rate is around 40%.\n",
    "- In problem 3, the indpendent variables are age, sex and pclass for logistic regression. The model produced here is much more accurate. The misclassification (False Positive and False Negative) rate is around 20% - 25%\n",
    "- In problem 4, instead of using logistic regression, using Decision tree with age, sex and pclass produces a misclassification (False Positive and False Negative) rate of around 20% - 25%.\n",
    "\n",
    "Thus the model in problem 3 and problem 4 is more accurate than the model in problem 2"
   ]
  },
  {
   "cell_type": "code",
   "execution_count": null,
   "metadata": {
    "collapsed": true
   },
   "outputs": [],
   "source": []
  }
 ],
 "metadata": {
  "kernelspec": {
   "display_name": "Scala",
   "language": "scala",
   "name": "scala"
  },
  "language_info": {
   "codemirror_mode": "text/x-scala",
   "file_extension": ".scala",
   "mimetype": "text/x-scala",
   "name": "scala211",
   "nbconvert_exporter": "script",
   "pygments_lexer": "scala",
   "version": "2.11.11"
  }
 },
 "nbformat": 4,
 "nbformat_minor": 2
}
